{
 "cells": [
  {
   "cell_type": "markdown",
   "id": "b26bf69d-8df2-417c-a276-18751ada3097",
   "metadata": {},
   "source": [
    "# Loops and Iterations - For/While Loops "
   ]
  },
  {
   "cell_type": "raw",
   "id": "293b5ef6-eb86-487a-aa7f-1248f2929984",
   "metadata": {},
   "source": [
    "________ for loop ________"
   ]
  },
  {
   "cell_type": "markdown",
   "id": "ef90bad4-35b3-409d-8ed4-64038f2178a5",
   "metadata": {},
   "source": [
    "![For Loop](http://127.0.0.1:8888/files/imglist/for_loop.png) "
   ]
  },
  {
   "cell_type": "code",
   "execution_count": null,
   "id": "baa8f273-55aa-43fe-8b2c-227a9bebb12a",
   "metadata": {},
   "outputs": [],
   "source": [
    "#  directly accessing to the elements in the list\n",
    "separator = '\\n-------------------------------------------------------------------------\\n'\n",
    "years = 2005\n",
    "for year in range(years,(years + 10)):\n",
    " print(year)\n",
    "print(separator)\n",
    "\n",
    "# Striding in for loop\n",
    "for i in range(2, 12, 3):\n",
    " print(i)\n",
    "print(separator)\n",
    "\n",
    "# Take the numbers between -3 and 6 using for loop\n",
    "# Use range() functi on\n",
    "for i in range(-3, 7):\n",
    " print(i)\n",
    "print(separator)\n",
    "\n",
    "number1 = int(input('Enter a number:'))\n",
    "number2 = int(input('Enter a number:'))\n",
    "print(f'The entered numbers are {number1} and {number2}.')\n",
    "for i in range(1, 11):\n",
    " print(('%d x %d = %d' %(number1, i, number1*i)), ' \\t ', ('%d x %d = %d' %(number2, i, number2*i )))\n",
    "print(separator)"
   ]
  },
  {
   "cell_type": "raw",
   "id": "09dc6203-3e6f-4e2f-b826-0805303c8859",
   "metadata": {},
   "source": [
    "________ Addition and average calculation in for loop ________ "
   ]
  },
  {
   "cell_type": "code",
   "execution_count": null,
   "id": "08c7c95c-6aac-4dd0-bd4b-b0cea7bfce83",
   "metadata": {},
   "outputs": [],
   "source": [
    "# Take a list\n",
    "nlis = [0.577, 2.718, 3.14, 1.618, 1729, 6, 37]\n",
    "# Write a for loop for addition\n",
    "count = 0\n",
    "for i in nlis:\n",
    " count+=i\n",
    "print('The total value of the numbers in the list is', count)\n",
    "# Calculate the average using len() function\n",
    "print('The avearge value of the numbers in the list is', count/len(nlis))"
   ]
  },
  {
   "cell_type": "raw",
   "id": "21a75247-2462-46b8-a9dd-38a85f974805",
   "metadata": {},
   "source": [
    "________ for-else statement ________ "
   ]
  },
  {
   "cell_type": "code",
   "execution_count": null,
   "id": "2b182e9c-641d-4c86-a1c0-4c0008f36bf5",
   "metadata": {},
   "outputs": [],
   "source": [
    "for i in range(1,6):\n",
    " print(i, end=\", \")\n",
    "else:\n",
    " print('These are numbers from 1 to 5.')"
   ]
  },
  {
   "cell_type": "raw",
   "id": "b8daeda7-32b2-41a2-b0f4-22b7c520480f",
   "metadata": {},
   "source": [
    "________ nested for loop ________ "
   ]
  },
  {
   "cell_type": "code",
   "execution_count": null,
   "id": "d36e2cf2-8bfd-4ed9-8867-11bc6edb4d55",
   "metadata": {},
   "outputs": [],
   "source": [
    "n = int(input('Enter a number:'))\n",
    "\n",
    "for i in range(n):\n",
    "    for j in range(i + 1):\n",
    "        print(\"*\", end=\" \")\n",
    "    print()"
   ]
  },
  {
   "cell_type": "raw",
   "id": "f4bb09c1-5a29-40c2-a600-83bab5c00e79",
   "metadata": {},
   "source": [
    "________ continue and break in for loop ________ "
   ]
  },
  {
   "cell_type": "code",
   "execution_count": null,
   "id": "97fcf495-9b34-44bf-9d64-b4b95de07fb9",
   "metadata": {},
   "outputs": [],
   "source": [
    "# Take a list\n",
    "nlis = [1,2,4,5,6,7,8,9,10,11,12,13,14]\n",
    "for i in nlis:\n",
    " if i == 5:\n",
    " conti nue\n",
    " print(i)\n",
    " \n",
    "\"\"\"\n",
    "You see that the output includes the numbers without 5. \n",
    "The conti nue functi on jumps when it meets with the reference.\n",
    "\"\"\"\n",
    "\n",
    "for i in nlis:\n",
    " if i == 5:\n",
    " break\n",
    " print(i)\n",
    " \n",
    "\"\"\"\n",
    "You see that the output includes the numbers before 5. \n",
    "The break functi on terminate the loop when it meets with the reference.\n",
    "\"\"\""
   ]
  },
  {
   "cell_type": "raw",
   "id": "72f3b635-549e-444f-80bb-2a031b59df50",
   "metadata": {},
   "source": [
    "________ while loop ________ "
   ]
  },
  {
   "cell_type": "markdown",
   "id": "e4327bbc-ba3a-4002-aa03-3e67444d73eb",
   "metadata": {},
   "source": [
    "![While Loop](http://127.0.0.1:8888/files/imglist/while_loop.png)"
   ]
  },
  {
   "cell_type": "code",
   "execution_count": null,
   "id": "ce4c305e-274b-40f7-8f76-9264fd97223f",
   "metadata": {},
   "outputs": [],
   "source": [
    "# Take an example\n",
    "i = 22\n",
    "while i<27:\n",
    " print(i)\n",
    " i+=1\n",
    "print(separator)\n",
    "\n",
    "# Take an example\n",
    "years = [2005, 2006, 2007, 2008, 2009, 2010]\n",
    "index = 0\n",
    "year = years[0]\n",
    "while year !=2008:\n",
    " print(year)\n",
    " index+=1\n",
    " year = years[index]\n",
    "print('It gives us only', index, 'repetititons to get out of loop')\n",
    "print(separator)\n",
    "\n",
    "# Adding the element in a list to a new list \n",
    "fruits = ['banana', 'apple', 'banana', 'orange', 'kiwi', 'banana', 'Cherry', 'Grapes']\n",
    "new_fruits = []\n",
    "index = 0\n",
    "while fruits[index] == 'banana':\n",
    " new_fruits.append(fruits[index])\n",
    " index += 1\n",
    "print(new_fruits)"
   ]
  },
  {
   "cell_type": "raw",
   "id": "db333f64-113d-41cc-b571-31fdc2c3f2b1",
   "metadata": {},
   "source": [
    "________ Continue and Break while loop ________  "
   ]
  },
  {
   "cell_type": "code",
   "execution_count": null,
   "id": "97b5e650-a4ac-4733-8437-a585b8762a46",
   "metadata": {},
   "outputs": [],
   "source": [
    "i = 0\n",
    "while i<=5:\n",
    " print(i)\n",
    " i+=1\n",
    " if i == 3:\n",
    "     continue\n",
    "\n",
    "print(separator)\n",
    "\n",
    "i = 0\n",
    "while i<=5:\n",
    " print(i)\n",
    " i+=1\n",
    " if i == 3:\n",
    "     break\n",
    "\n"
   ]
  },
  {
   "cell_type": "code",
   "execution_count": null,
   "id": "29b72960-6db8-4042-bad2-28468afc0efc",
   "metadata": {},
   "outputs": [],
   "source": [
    "def print_board(board):\n",
    "    for row in board:\n",
    "        print(\"|\".join(row))\n",
    "        print(\"-----\")\n",
    "\n",
    "def check_winner(board):\n",
    "    # Check rows and columns\n",
    "    for i in range(3):\n",
    "        if board[i][0] == board[i][1] == board[i][2] != ' ' or \\\n",
    "           board[0][i] == board[1][i] == board[2][i] != ' ':\n",
    "            return True\n",
    "\n",
    "    # Check diagonals\n",
    "    if board[0][0] == board[1][1] == board[2][2] != ' ' or \\\n",
    "       board[0][2] == board[1][1] == board[2][0] != ' ':\n",
    "        return True\n",
    "\n",
    "    return False\n",
    "\n",
    "def is_board_full(board):\n",
    "    for row in board:\n",
    "        if ' ' in row:\n",
    "            return False\n",
    "    return True\n",
    "\n",
    "def tic_tac_toe():\n",
    "    board = [[' ' for _ in range(3)] for _ in range(3)]\n",
    "    current_player = 'X'\n",
    "\n",
    "    while True:\n",
    "        print_board(board)\n",
    "        row = int(input(f\"Player {current_player}, enter row (0, 1, or 2): \"))\n",
    "        col = int(input(f\"Player {current_player}, enter column (0, 1, or 2): \"))\n",
    "\n",
    "        if board[row][col] == ' ':\n",
    "            board[row][col] = current_player\n",
    "\n",
    "            if check_winner(board):\n",
    "                print_board(board)\n",
    "                print(f\"Player {current_player} wins!\")\n",
    "                break\n",
    "            elif is_board_full(board):\n",
    "                print_board(board)\n",
    "                print(\"It's a tie!\")\n",
    "                break\n",
    "            else:\n",
    "                current_player = 'O' if current_player == 'X' else 'X'\n",
    "        else:\n",
    "            print(\"Cell already occupied. Try again.\")\n",
    "\n",
    "if __name__ == \"__main__\":\n",
    "    tic_tac_toe()\n"
   ]
  }
 ],
 "metadata": {
  "kernelspec": {
   "display_name": "Python 3 (ipykernel)",
   "language": "python",
   "name": "python3"
  },
  "language_info": {
   "codemirror_mode": {
    "name": "ipython",
    "version": 3
   },
   "file_extension": ".py",
   "mimetype": "text/x-python",
   "name": "python",
   "nbconvert_exporter": "python",
   "pygments_lexer": "ipython3",
   "version": "3.10.12"
  }
 },
 "nbformat": 4,
 "nbformat_minor": 5
}
