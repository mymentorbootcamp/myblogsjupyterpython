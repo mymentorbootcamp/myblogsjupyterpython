{
 "cells": [
  {
   "cell_type": "markdown",
   "id": "36e755c7-a32e-4a46-9a9e-2ede43689919",
   "metadata": {},
   "source": [
    "# Dictionaries"
   ]
  },
  {
   "cell_type": "markdown",
   "id": "184c9084-6d9d-4837-af1d-0bb6f15515c4",
   "metadata": {},
   "source": [
    "![Dictionaries](http://127.0.0.1:8888/files/imglist/dictionaries.png)"
   ]
  },
  {
   "cell_type": "raw",
   "id": "683b2e0e-2a81-4a91-bd2a-78ba88b0fb1e",
   "metadata": {},
   "source": [
    "    Struktur data yang digunakan untuk menyimpan pasangan kunci-nilai. Dictionaries bersifat tidak berurutan, mutable (dapat diubah), dan dapat diindeks dengan kunci untuk mengakses nilai yang terkait. Kunci dalam dictionary harus unik, tetapi nilai-nilai tidak harus unik.\n",
    "    Membuat dictionary dengan menggunakan tanda kurung kurawal {} dan menyusun pasangan kunci-nilai di dalamnya, dipisahkan oleh tanda koma."
   ]
  },
  {
   "cell_type": "code",
   "execution_count": null,
   "id": "f4403fdd-e9b4-444c-91c1-388c2ee2f4b6",
   "metadata": {},
   "outputs": [],
   "source": [
    "# Membuat sebuah dictionary\n",
    "my_dict = {'nama': 'John', 'umur': 25, 'kota': 'Jakarta'}\n",
    "\n",
    "# Mengakses nilai dengan menggunakan kunci\n",
    "print(my_dict['nama'])  # Output: John\n",
    "print(my_dict['umur'])  # Output: 25\n",
    "print(my_dict['kota'])  # Output: Jakarta"
   ]
  },
  {
   "cell_type": "code",
   "execution_count": null,
   "id": "cda80770-e36b-479f-8d29-7fc9248361ba",
   "metadata": {},
   "outputs": [],
   "source": [
    "# Menambahkan pasangan kunci-nilai baru\n",
    "my_dict['pekerjaan'] = 'Pengembang'\n",
    "\n",
    "# Mengubah nilai yang sudah ada\n",
    "my_dict['umur'] = 26\n",
    "\n",
    "# Numerical index is not used to take the dictionary values. It gives a KeyError\n",
    "my_dict[1]\n",
    "\n",
    "# Menghapus pasangan kunci-nilai\n",
    "del my_dict['kota']\n",
    "\n",
    "# It removes all the items in the dictionary and returns an empty dictionary\n",
    "dict_sample = dict(family = 'music', type='pop', year='2022' , name='happy new year')\n",
    "dict_sample.clear()\n",
    "dict_sample"
   ]
  },
  {
   "cell_type": "code",
   "execution_count": null,
   "id": "8004a5fd-4abb-49b0-856d-75fc169662c3",
   "metadata": {},
   "outputs": [],
   "source": [
    "# Take a sample dicti onary\n",
    "product = {'Aspergillus niger': 'inulinase', 'Saccharomyces cerevisiae': 'ethanol', \n",
    " 'Scheffersomyces sti piti s': 'ethanol', 'Aspergillus sojae_1': 'mannanase', \n",
    " 'Streptococcus zooepidemicus': 'hyaluronic acid', 'Lactobacillus casei': 'lacti c acid',\n",
    " 'Aspergillus sojae_2': 'polygalacturonase'}\n",
    "product"
   ]
  },
  {
   "cell_type": "raw",
   "id": "97e060f2-0df7-4fa5-a4bc-c9b18273352e",
   "metadata": {},
   "source": [
    "________ Keys ________"
   ]
  },
  {
   "cell_type": "code",
   "execution_count": null,
   "id": "37b8be24-0d3f-4b20-a510-11226a491735",
   "metadata": {},
   "outputs": [],
   "source": [
    "# Retrieving the value by keys\n",
    "print(product['Aspergillus niger'])\n",
    "print(product['Saccharomyces cerevisiae'])\n",
    "print(product['Scheffersomyces sti piti s'])\n",
    "\n",
    "# What are the keys in the dicti onary?\n",
    "product.keys()"
   ]
  },
  {
   "cell_type": "raw",
   "id": "6a1124c1-5211-4678-9d35-f0c2be43bcaa",
   "metadata": {},
   "source": [
    "________ Addition of a new key:value pair in the dictionary ________"
   ]
  },
  {
   "cell_type": "code",
   "execution_count": null,
   "id": "22c71baa-2ae5-4173-8419-5cd2d1266e9d",
   "metadata": {},
   "outputs": [],
   "source": [
    "product['Yarrovia lipolyti ca'] = 'microbial oil'\n",
    "product"
   ]
  },
  {
   "cell_type": "raw",
   "id": "07f54876-77c2-4357-8b22-86926d933fca",
   "metadata": {},
   "source": [
    "________ Delete an item using del() function in the dictionary by key ________"
   ]
  },
  {
   "cell_type": "code",
   "execution_count": null,
   "id": "a97b0f26-6ed3-4d2c-a85e-6545410de911",
   "metadata": {},
   "outputs": [],
   "source": [
    "del(product['Aspergillus niger'])\n",
    "del(product['Aspergillus sojae_1'])\n",
    "product\n",
    "\n",
    "del product\n",
    "print(product)\n",
    "# The dicti onary was deleted"
   ]
  },
  {
   "cell_type": "raw",
   "id": "aa2d4557-101e-47fa-8e76-2e8611a83151",
   "metadata": {},
   "source": [
    "________ Verificati on using in or not in ________"
   ]
  },
  {
   "cell_type": "code",
   "execution_count": null,
   "id": "cc6cd88c-24b1-4cec-9408-d6f65f6fd42d",
   "metadata": {},
   "outputs": [],
   "source": [
    "print('Saccharomyces cerevisiae' in product)\n",
    "print('Saccharomyces cerevisiae' not in product)"
   ]
  },
  {
   "cell_type": "raw",
   "id": "de351190-d89e-46a6-8834-d6297af6b719",
   "metadata": {},
   "source": [
    "________ pop() function ________\n",
    "    This function is used to remove a specific item from the dictionary"
   ]
  },
  {
   "cell_type": "code",
   "execution_count": null,
   "id": "4be4d3b9-9169-4f5c-be7c-4cec783b62d2",
   "metadata": {},
   "outputs": [],
   "source": [
    "sample_original = dict(family = 'music', type='pop', year='2022' , name='happy new year')\n",
    "print(sample_original.pop('type'))\n",
    "print(sample_original)"
   ]
  },
  {
   "cell_type": "raw",
   "id": "2467afa3-97db-4c0a-9735-cf5d49c719c8",
   "metadata": {},
   "source": [
    "________ popitem() function ________\n",
    "    It is used to remove the abitrary items from the dictionary and returns as a tuple"
   ]
  },
  {
   "cell_type": "code",
   "execution_count": null,
   "id": "f6db256b-2829-4f99-aa88-90030d4bbb8d",
   "metadata": {},
   "outputs": [],
   "source": [
    "sample_original = dict(family = 'music', type='pop', year='2022' , name='happy new year')\n",
    "print(sample_original.popitem())\n",
    "print(sample_original)"
   ]
  }
 ],
 "metadata": {
  "kernelspec": {
   "display_name": "Python 3 (ipykernel)",
   "language": "python",
   "name": "python3"
  },
  "language_info": {
   "codemirror_mode": {
    "name": "ipython",
    "version": 3
   },
   "file_extension": ".py",
   "mimetype": "text/x-python",
   "name": "python",
   "nbconvert_exporter": "python",
   "pygments_lexer": "ipython3",
   "version": "3.10.12"
  }
 },
 "nbformat": 4,
 "nbformat_minor": 5
}
