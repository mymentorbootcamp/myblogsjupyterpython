{
 "cells": [
  {
   "cell_type": "markdown",
   "id": "6293dc01-5238-4406-aa6c-ffbbf787967c",
   "metadata": {},
   "source": [
    "# Import Modules and Exploring The Standard Library"
   ]
  },
  {
   "cell_type": "raw",
   "id": "692cb016-5f69-48d6-a437-531f5d8d1f19",
   "metadata": {},
   "source": [
    "Dalam Python, dapat mengimpor modul untuk menambahkan fungsionalitas tambahan ke program. \n",
    "Modul adalah file Python yang berisi definisi dan pernyataan Python, dan dapat menggunakannya dengan menggunakan kata kunci import. \n",
    "Python juga memiliki sejumlah modul bawaan yang disebut sebagai \"Standard Library\" yang menyediakan berbagai fungsionalitas yang siap pakai."
   ]
  },
  {
   "cell_type": "code",
   "execution_count": null,
   "id": "14ad33d4-0055-4a2a-96a2-6f6d0456287f",
   "metadata": {},
   "outputs": [],
   "source": [
    "# Contoh 1: Modul math\n",
    "import math\n",
    "\n",
    "# Menggunakan fungsi dari modul math\n",
    "print(math.sqrt(25))  # Output: 5.0\n",
    "print(math.pi)        # Output: 3.141592653589793\n",
    "\n",
    "# Contoh 2: Modul datetime\n",
    "import datetime\n",
    "\n",
    "# Mendapatkan tanggal dan waktu saat ini\n",
    "sekarang = datetime.datetime.now()\n",
    "print(\"Tanggal dan waktu saat ini:\", sekarang)\n",
    "\n",
    "# Contoh 3: Modul random\n",
    "import random\n",
    "\n",
    "# Menghasilkan angka acak antara 1 dan 10\n",
    "angka_acak = random.randint(1, 10)\n",
    "print(\"Angka acak:\", angka_acak)\n",
    "\n",
    "# Contoh 4: Modul os\n",
    "import os\n",
    "\n",
    "# Mendapatkan direktori kerja saat ini\n",
    "direktori_kerja = os.getcwd()\n",
    "print(\"Direktori kerja saat ini:\", direktori_kerja)\n",
    "\n",
    "# Contoh 5: Modul urllib.request (Python 3)\n",
    "import urllib.request\n",
    "\n",
    "# Mengunduh halaman web\n",
    "url = 'https://www.example.com'\n",
    "response = urllib.request.urlopen(url)\n",
    "html_content = response.read()\n",
    "print(html_content[:100])  # Output: Isi HTML dari halaman web (100 karakter pertama)\n",
    "\n",
    "# Contoh 6: Modul requests (Jika belum diinstal, instal dengan 'pip install requests')\n",
    "import requests\n",
    "\n",
    "# Mengirim permintaan HTTP GET\n",
    "response = requests.get(url)\n",
    "print(\"Kode status HTTP:\", response.status_code)\n"
   ]
  },
  {
   "cell_type": "raw",
   "id": "96d6ff23-a73b-4c13-8090-717dfe74923a",
   "metadata": {},
   "source": [
    "________ Menjelajahi Modul ________ \n",
    "    Fungsi dir(math) akan menampilkan semua fungsi, konstanta, dan objek lain yang ada dalam modul math."
   ]
  },
  {
   "cell_type": "code",
   "execution_count": null,
   "id": "ca61c2e6-55d7-44d2-864a-67b76af94ff3",
   "metadata": {},
   "outputs": [],
   "source": [
    "import math\n",
    "print(dir(math))"
   ]
  },
  {
   "cell_type": "raw",
   "id": "9fb1f90c-775d-45a8-a1a4-5c36159ceb15",
   "metadata": {},
   "source": [
    "________ Menggunakan Fungsi dalam Modul ________ \n",
    "    Fungsi dir(math) akan menampilkan semua fungsi, konstanta, dan objek lain yang ada dalam modul math."
   ]
  },
  {
   "cell_type": "code",
   "execution_count": null,
   "id": "8cac30c9-549f-41c9-8cf0-298cd3895c7e",
   "metadata": {},
   "outputs": [],
   "source": [
    "import math\n",
    "result = math.sqrt(25)\n",
    "print(result)"
   ]
  },
  {
   "cell_type": "raw",
   "id": "ca880c83-4b64-4ae7-885f-e40b6dff678e",
   "metadata": {},
   "source": [
    "________ Dokumentasi Modul ________ \n",
    "    Dokumentasi juga dapat ditemukan secara online di situs web resmi Python atau dengan mencari di mesin pencari."
   ]
  },
  {
   "cell_type": "code",
   "execution_count": null,
   "id": "38fe67e1-708b-4c79-9915-d96f7b84d29c",
   "metadata": {},
   "outputs": [],
   "source": [
    "import math\n",
    "help(math)"
   ]
  }
 ],
 "metadata": {
  "kernelspec": {
   "display_name": "Python 3 (ipykernel)",
   "language": "python",
   "name": "python3"
  },
  "language_info": {
   "codemirror_mode": {
    "name": "ipython",
    "version": 3
   },
   "file_extension": ".py",
   "mimetype": "text/x-python",
   "name": "python",
   "nbconvert_exporter": "python",
   "pygments_lexer": "ipython3",
   "version": "3.10.12"
  }
 },
 "nbformat": 4,
 "nbformat_minor": 5
}
