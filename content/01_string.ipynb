{
 "cells": [
  {
   "cell_type": "markdown",
   "id": "200cd475-6d6d-4599-8f14-7fedf9402551",
   "metadata": {},
   "source": [
    "# Strings"
   ]
  },
  {
   "cell_type": "raw",
   "id": "be3b8d74-d64d-40f7-a90f-3ba0db244553",
   "metadata": {},
   "source": [
    "    String adalah tipe data yang digunakan untuk menyimpan teks di Python. \n",
    "    String bisa berisi karakter tunggal atau serangkaian karakter. "
   ]
  },
  {
   "cell_type": "raw",
   "id": "774d0eee-cc39-47ce-944c-28533dd1e693",
   "metadata": {},
   "source": [
    "________ String Operators________"
   ]
  },
  {
   "cell_type": "code",
   "execution_count": null,
   "id": "7dd13acf-a235-4381-a27a-6860d18464a8",
   "metadata": {},
   "outputs": [],
   "source": [
    "# The {+} Operator\n",
    "## The {+} operator concatenates strings\n",
    "\n",
    "#--------------  inital    ------------------------\n",
    "# importing date class from datetime module \n",
    "from datetime import date \n",
    "# creating the date object of today's date \n",
    "todays_date = date.today() \n",
    "\n",
    "s = 'BRI BFLP 2024'\n",
    "t = 'Module Python Programming'\n",
    "u = str(todays_date.year)\n",
    "stu = s + t + u\n",
    "message = 'Hello World!'\n",
    "global s,t,u,stu,message\n",
    "\n",
    "#--------------  proccess  ------------------------\n",
    "\n",
    "# printing a string\n",
    "s + t\n",
    "s + t + u\n",
    "print('Go team' + '!!!')\n",
    "print('Hello World!')\n",
    "# Double quotation marks for describing a string\n",
    "\"Hello World!\"\n",
    "# Single quotation marks for describing a string\n",
    "'Hello World!'\n",
    "# Digitals and spaces in a string\n",
    "'3 6 9 2 6 8'\n",
    "# Specific characters in a string\n",
    "'@#5_]*$%^&'\n",
    "# Assigning a string to a variable 'message'\n",
    "print(message)"
   ]
  },
  {
   "cell_type": "code",
   "execution_count": null,
   "id": "124014f2-bb5a-4d79-98bc-b081a3d4051e",
   "metadata": {},
   "outputs": [],
   "source": [
    "# The {*} Operator\n",
    "## The {*} operator creates multiple copies of a string\n",
    "#  s * n\n",
    "#  n * s\n",
    "\n",
    "s * 4\n",
    "8 * s"
   ]
  },
  {
   "cell_type": "code",
   "execution_count": null,
   "id": "b8e51191-df0d-440d-8297-f7c201924c6e",
   "metadata": {},
   "outputs": [],
   "source": [
    "# The {in} and {not in} Operator\n",
    "\n",
    "#--------------  in    ------------------------\n",
    "s in 'That\\'s BRI Hello World !.'\n",
    "s in 'That\\'s Module Python Programming .'\n",
    "\n",
    "#-------------- not in ------------------------\n",
    "'z' not in 'abc'\r\n",
    "'z' not in 'xyz'"
   ]
  },
  {
   "cell_type": "raw",
   "id": "cca07a9e-cf37-4d04-9b4b-d701160c24da",
   "metadata": {},
   "source": [
    "________ Built-in String Functions ________"
   ]
  },
  {
   "cell_type": "markdown",
   "id": "121dd860-7955-441c-8c79-e9b0f752d4c0",
   "metadata": {},
   "source": [
    "![Built-in String Functions](http://127.0.0.1:8888/files/imglist/Built-in%20String%20Functions.png?_xsrf=2%7C0c07da78%7Cf8af67b74a203827ed58547b951b6e50%7C1704697821)"
   ]
  },
  {
   "cell_type": "raw",
   "id": "b2eae726-59f8-4917-96c9-542fce304f05",
   "metadata": {},
   "source": [
    "# Membuat set dari nilai ASCII karakter-karakter dalam string\n",
    "my_string = \"Hello\"\n",
    "ascii_set = {ord(c) for c in my_string}\n",
    "\n",
    "print(ascii_set)\n",
    "\n",
    "Output:\n",
    "{72, 101, 108, 111}\n",
    "\n",
    "Dalam contoh di atas, ord(c) mengembalikan nilai ASCII dari setiap karakter c dalam string \"Hello\". Kemudian, operator {} digunakan untuk membuat set yang berisi nilai-nilai tersebut. Set hanya akan menyimpan nilai-nilai unik, sehingga setelah dijalankan, hanya ada satu nilai 108 yang mewakili karakter 'l'."
   ]
  },
  {
   "cell_type": "code",
   "execution_count": null,
   "id": "28b8054c-ea49-4b81-9cf4-593e9b6a90bb",
   "metadata": {},
   "outputs": [],
   "source": [
    "# The { ord(c) } Operator\n",
    "\n",
    "ord('a')\n",
    "ord('#')"
   ]
  },
  {
   "cell_type": "code",
   "execution_count": null,
   "id": "5576f962-22f2-4f25-ae3f-b749125360a7",
   "metadata": {},
   "outputs": [],
   "source": [
    "# The { chr(n)  }Operator\n",
    "\n",
    "chr(97)\n",
    "chr(35)"
   ]
  },
  {
   "cell_type": "code",
   "execution_count": null,
   "id": "0f234045-e5fb-4666-a51e-2efe1db51252",
   "metadata": {},
   "outputs": [],
   "source": [
    "# The { len(s) } Operator\n",
    "\n",
    "len(s)\n",
    "len(t)"
   ]
  },
  {
   "cell_type": "code",
   "execution_count": null,
   "id": "7df1a0a4-762a-43cb-bf84-296a9933f7bd",
   "metadata": {},
   "outputs": [],
   "source": [
    "# The { str(obj) } Operator\n",
    "\n",
    "str(49.2)\n",
    "str(3+4j)\n",
    "str(3 + 29)\n",
    "str(stu)"
   ]
  },
  {
   "cell_type": "raw",
   "id": "038a22ea-535c-4825-96ac-2c8e5d7fb346",
   "metadata": {},
   "source": [
    "________ String Indexing ________"
   ]
  },
  {
   "cell_type": "markdown",
   "id": "544364f6-ac6b-4c95-88df-040c8a4ccd25",
   "metadata": {},
   "source": [
    "![String Indexing](http://127.0.0.1:8888/files/imglist/String%20Indexing.png)"
   ]
  },
  {
   "cell_type": "code",
   "execution_count": null,
   "id": "921d4746-a3f3-440a-aff8-ffc85f9aef77",
   "metadata": {},
   "outputs": [],
   "source": [
    "#-------------- positive indexing ------------------------\n",
    "# Printing the element on index {n} in a string\n",
    "s[0]\n",
    "s[1]\n",
    "s[3]\n",
    "# lenght of a string includign spaces\n",
    "len(s)\n",
    "s[len(s)-1]\n",
    "\n",
    "#-------------- negative indexing ------------------------\n",
    "s[-1]\n",
    "s[-2]\n",
    "# lenght of a string includign spaces\n",
    "len(s)\n",
    "s[-len(s)]"
   ]
  },
  {
   "cell_type": "raw",
   "id": "6a6154bb-7436-4ff2-b4a4-5307114ee72e",
   "metadata": {},
   "source": [
    "________ Slicing of a string ________"
   ]
  },
  {
   "cell_type": "raw",
   "id": "e221732d-4048-4e29-97dc-d59a86819b73",
   "metadata": {},
   "source": [
    "my_string = \"Hello, World!\"\n",
    "\n",
    "# Mengambil potongan string dari indeks 0 hingga 4 (tidak inklusif)\n",
    "substring = my_string[0:5]\n",
    "print(substring)  # Output: Hello\n",
    "\n",
    "# Mengambil potongan string dari indeks 7 hingga akhir\n",
    "substring2 = my_string[7:]\n",
    "print(substring2)  # Output: World!\n",
    "\n",
    "# Mengambil potongan string dari awal hingga indeks 5 (tidak inklusif)\n",
    "substring3 = my_string[:5]\n",
    "print(substring3)  # Output: Hello\n",
    "\n",
    "Dalam contoh di atas, perlu diingat bahwa rentang indeks pada potongan string adalah [start:stop), yang berarti karakter pada indeks \"stop\" tidak termasuk dalam hasilnya."
   ]
  },
  {
   "cell_type": "code",
   "execution_count": null,
   "id": "81c68fac-03ac-4f9a-92d5-07267907164d",
   "metadata": {},
   "outputs": [],
   "source": [
    "# Slicing on the variable 'message' with only index 0 to index 5\n",
    "message[0:5]\n",
    "# Slicing on the variable 'message' with only index 6 to index 12\n",
    "message[6:12]"
   ]
  },
  {
   "cell_type": "raw",
   "id": "51d5d390-d1a2-42f2-b4f2-9c09e558963c",
   "metadata": {},
   "source": [
    "________ Concatenate of strings ________"
   ]
  },
  {
   "cell_type": "code",
   "execution_count": null,
   "id": "cc9faad6-c394-4536-a33e-a4f561cae858",
   "metadata": {},
   "outputs": [],
   "source": [
    "# New line escape sequence\n",
    "print('Hello World! \\nHow many people are living on the earth?')\n",
    "# Tab escape sequence\n",
    "print('Hello World! \\tHow many people are living on the earth?')\n",
    "# back slash in a string\n",
    "print('Hello World! \\\\ How many people are living on the earth?')\n",
    "# r will say python that a string will be show as a raw string\n",
    "print(r'Hello World! \\ How many people are living on the earth?')"
   ]
  },
  {
   "cell_type": "raw",
   "id": "2a140d6f-79e2-4f64-a05d-0c05f24a9a7d",
   "metadata": {},
   "source": [
    "________ String operations ________"
   ]
  },
  {
   "cell_type": "code",
   "execution_count": null,
   "id": "47ec091a-29dd-4fb7-8fb2-e50079e4cb55",
   "metadata": {},
   "outputs": [],
   "source": [
    "print('Before uppercase: ', message )\n",
    "# convert uppercase the elements in a string\n",
    "message_upper = message.upper()\n",
    "print('After uppercase: ', message_upper)\n",
    "# convert lowercase the elements in a string\n",
    "message_lower = message.lower()\n",
    "print('Again lowercase: ', message_lower)\n",
    "# convert first lett er of string to uppercase\n",
    "message_title = message.title()\n",
    "print('The first element of the string is uppercase: ', message_title)\n",
    "# replace() method in a string\n",
    "message = 'Hello Python!'\n",
    "message_hi = message.replace('Hello', 'Hi')\n",
    "message_python = message.replace('Python', 'World')\n",
    "print(message_hi)\n",
    "print(message_python)\n",
    "# center() method will center align the string, using a specified character (space is the default) as the fill character.\n",
    "message = 'Hallo Leute!'\n",
    "message.center(50, '-')\n",
    "\n",
    "# format() method\n",
    "\"\"\"\n",
    "The format() method formats the specified value(s) and insert them inside the string's placeholder. \n",
    "The placeholder is defined using curly brackets: {}.\n",
    "\"\"\"\n",
    "txt = \"Hello {word}\"\n",
    "print(txt.format(word = 'World!'))\n",
    "message1 = 'Hi, My name is {} and I am {} years old.'\n",
    "print(message1.format('Bob', 36))\n",
    "message2 = 'Hi, My name is {name} and I am {number} years old.'\n",
    "print(message2.format(name ='Bob', number = 36))\n",
    "message3 = 'Hi, My name is {0} and I am {1} years old.'\n",
    "print(message3.format('Bob', 36))"
   ]
  }
 ],
 "metadata": {
  "kernelspec": {
   "display_name": "Python 3 (ipykernel)",
   "language": "python",
   "name": "python3"
  },
  "language_info": {
   "codemirror_mode": {
    "name": "ipython",
    "version": 3
   },
   "file_extension": ".py",
   "mimetype": "text/x-python",
   "name": "python",
   "nbconvert_exporter": "python",
   "pygments_lexer": "ipython3",
   "version": "3.10.12"
  }
 },
 "nbformat": 4,
 "nbformat_minor": 5
}
