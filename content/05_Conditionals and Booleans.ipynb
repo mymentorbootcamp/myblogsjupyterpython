{
 "cells": [
  {
   "cell_type": "markdown",
   "id": "fda765e6-e196-41be-9cc1-5d00c855565f",
   "metadata": {},
   "source": [
    "# Conditionals and Booleans - If, Else, and Elif Statements"
   ]
  },
  {
   "cell_type": "raw",
   "id": "a74a4054-5243-4a6e-b590-e4216028cd83",
   "metadata": {},
   "source": [
    "    Comparison operations compare some value or operand and based on a condition, produce a Boolean. Python has six comparison operators as below:\n",
    "    - Less than (<)\n",
    "    - Less than or equal to (<=)\n",
    "    - Greater than (>)\n",
    "    - Greater than or equal to (>=)\n",
    "    - Equal to (==)\n",
    "    - Not equal to (!=)"
   ]
  },
  {
   "cell_type": "code",
   "execution_count": null,
   "id": "90032e96-7f59-4690-9f30-e2752e19c08e",
   "metadata": {},
   "outputs": [],
   "source": [
    "# Take a variable\n",
    "golden_ratio = 1.618\n",
    "\n",
    "# Condition less than\n",
    "print(golden_ratio<2) # The golden rati o is lower than 2, thus the output is True\n",
    "print(golden_ratio<1) # The golden rati o is greater than 1, thus the output is False\n",
    "\n",
    "# Condition less than or equal to\n",
    "print(golden_ratio<=2) # The golden rati o is lower than 2, thus the conditi on is True.\n",
    "print(golden_ratio<=1) # The golden rati o is greater than 1, thus the conditi on is False.\n",
    "print(golden_ratio<=1.618) # The golden rati o is equal to 1.618, thus the conditi on is True.\n",
    "\n",
    "# Condition greater than\n",
    "print(golden_ratio>2) # The golden rati o is lower than 2, thus the conditi on is False.\n",
    "print(golden_ratio>1) # The golden rati o is greater than 1, thus the conditi on is True.\n",
    "\n",
    "# Condition greater than or equal to\n",
    "print(golden_ratio>=2) # The golden rati o is not greater than 2, thus the conditi on is False.\n",
    "print(golden_ratio>=1) # The golden rati o is greater than 1, thus the conditi on is True.\n",
    "print(golden_ratio>=1.618) # The golden rati o is equal to 1.618, thus the conditi on is True.\n",
    "\n",
    "# Condition equal to\n",
    "print(golden_ratio==2) # The golden rati o is not equal to 1.618, thus the conditi on is False.\n",
    "print(golden_ratio==1.618) # The golden rati o is equal to 1.618, thus the conditi on is True\n",
    "\n",
    "# Condition not equal to\n",
    "print(golden_rati o!=2) # The golden rati o is not equal to 1.618, thus the conditi on is True.\n",
    "print(golden_rati o!=1.618) # The golden rati o is equal to 1.618, thus the conditi on is False.\n",
    "\n",
    "# Compare strings\n",
    "print('Hello' == 'Python')\n",
    "print('Hello' != 'Python')\n",
    "print('Hello' <= 'Python')\n",
    "print('Hello' >= 'Python')\n",
    "print('Hello' < 'Python')\n",
    "print('Hello' > 'Python')\n",
    "print('B'>'A') # According to ASCII table, the values of A and B are equal 65 and 66, respecti vely.\n",
    "print('a'>'b') # According to ASCII table, the values of a and b are equal 97 and 98, respecti vely.\n",
    "print('CD'>'DC') # According to ASCII table, the value of C (67) is lower than that of D (68)\n",
    "# The values of uppercase and lowercase lett ers are different since python is case sensiti ve."
   ]
  },
  {
   "cell_type": "raw",
   "id": "2a889027-66b3-49ac-a6a0-d0522fdaae23",
   "metadata": {},
   "source": [
    "Branching (if, elif, else)\n",
    "    - Decision making is required when we want to execute a code only if a certain condition is satisfied.\n",
    "    - The if/elif/else statement is used in Python for decision making.\n",
    "    - An else statement can be combined with an if statement.\n",
    "    - An else statement contains the block of code that executes if the conditional expressi on in the if statement resolves to 0 or a False value\n",
    "    - The else statement is an optional statement and there could be at most only one else statement following if.\n",
    "    - The elif statement allows you to check multiple expressions for True and execute a block of code as soon as one of the condi tions evaluates to \n",
    "      True.\n",
    "    - Similar to the else, the elif statement is optional.\n",
    "    - However, unlike else, for which there can be at most one statement, there can be an arbitrary number of elif statements following an if."
   ]
  },
  {
   "cell_type": "raw",
   "id": "c79fdc00-3bbb-4e36-99f8-886662872593",
   "metadata": {},
   "source": [
    "________ If statement ________"
   ]
  },
  {
   "cell_type": "markdown",
   "id": "19d1350f-3635-43b7-891d-1e5839acea27",
   "metadata": {},
   "source": [
    "![conditionals](http://127.0.0.1:8888/files/imglist/conditionals.png)"
   ]
  },
  {
   "cell_type": "code",
   "execution_count": null,
   "id": "c0e2cadb-be75-41ae-be5f-d62fd2e4f237",
   "metadata": {},
   "outputs": [],
   "source": [
    "pi = 3.14\n",
    "golden_ratio = 1.618\n",
    "\n",
    "# This statement can be True or False.\n",
    "if pi > golden_ratio:\n",
    " # If the conditions is True, the following statement will be printed.\n",
    " print(f'The number pi {pi} is greater than the golden ratio {golden_ratio}.')\n",
    "# The following statement will be printed in each situtation.\n",
    "\n",
    "print('Done!')"
   ]
  },
  {
   "cell_type": "raw",
   "id": "3b6fa5db-2d42-43b2-a60a-c832ce8d838e",
   "metadata": {},
   "source": [
    "________ else statement ________"
   ]
  },
  {
   "cell_type": "markdown",
   "id": "f58b68b5-b828-4fcd-bcae-e09420836873",
   "metadata": {},
   "source": [
    "![Conditions Else](http://127.0.0.1:8888/files/imglist/conditionals_else.png)"
   ]
  },
  {
   "cell_type": "code",
   "execution_count": null,
   "id": "75083d50-bdae-4e30-9a9f-a83c421bb550",
   "metadata": {},
   "outputs": [],
   "source": [
    "pi = 3.14\n",
    "golden_rati o = 1.618\n",
    "if pi < golden_ratio:\n",
    " print(f'The number pi {pi} is greater than the golden ratio {golden_ratio}.')\n",
    "else:\n",
    " print(f'The golden ratio {golden_ratio} is lower than the number pi {pi}.')\n",
    "print('Done!')"
   ]
  },
  {
   "cell_type": "raw",
   "id": "7da547d4-5e79-46c9-a11c-4c3954fd8850",
   "metadata": {},
   "source": [
    "________ elif statement ________"
   ]
  },
  {
   "cell_type": "markdown",
   "id": "2c6e7099-e5e0-4e7b-8664-b5e9e6161517",
   "metadata": {},
   "source": [
    "![Conditions Else If](http://127.0.0.1:8888/files/imglist/conditionals_else_if.png)"
   ]
  },
  {
   "cell_type": "code",
   "execution_count": null,
   "id": "860dac82-837c-4edc-b35b-7d137288178c",
   "metadata": {},
   "outputs": [],
   "source": [
    "age = 5\n",
    "if age > 6:\n",
    " print('You can go to primary school.' )\n",
    "elif age == 5:\n",
    " print('You should go to kindergarten.')\n",
    "else:\n",
    " print('You are a baby' )\n",
    " \n",
    "print('Done!')"
   ]
  },
  {
   "cell_type": "code",
   "execution_count": null,
   "id": "047f2261-f1c5-4cfd-bbe1-6e410907c981",
   "metadata": {},
   "outputs": [],
   "source": [
    "note = float(input('Enter a note:'))\n",
    "print(f'The entered note value is: {note}')\n",
    "if note >= 90 and note <= 100:\n",
    " print('The letter grade is AA.')\n",
    "elif note >= 85 and note <= 89:\n",
    " print('The letter grade is BA.')\n",
    "elif note >= 80 and note <= 84:\n",
    " print('The letter grade is BB.')\n",
    "elif note >= 75 and note <= 79:\n",
    " print('The letter grade is CB.')\n",
    "elif note >= 70 and note <= 74:\n",
    " print('The letter grade is CC.')\n",
    "elif note >= 65 and note <= 69:\n",
    " print('The letter grade is DC.')\n",
    "elif note >= 60 and note <= 64:\n",
    " print('The letter grade is DD.')\n",
    "elif note >=55 and note <= 59:\n",
    " print('The letter grade is ED.')\n",
    "elif note >=50 and note <= 54:\n",
    " print('The letter grade is EE.')\n",
    "elif note >=45 and note <=49:\n",
    " print('The letter grade is FE.')\n",
    "else:\n",
    " print('The letter grade is FF.')"
   ]
  },
  {
   "cell_type": "raw",
   "id": "3b24d02b-00e7-4ed4-ba56-74793197993f",
   "metadata": {},
   "source": [
    "________ Logical operators ________ \n",
    "\n",
    "    Logical operators are used to combine conditional statements.\n",
    "    - and: Returns True if both statements are true\n",
    "    - or: Returns True if one of the statements is true\n",
    "    - not: Reverse the result, returns False if the result is true"
   ]
  },
  {
   "cell_type": "markdown",
   "id": "53c789f3-cecb-4e36-8ef5-eddcd081e6de",
   "metadata": {},
   "source": [
    "![Conditonals Logical](http://127.0.0.1:8888/files/imglist/conditionals_logicals.png)"
   ]
  },
  {
   "cell_type": "raw",
   "id": "dbc4f827-1396-42b0-93ae-ea25254790b7",
   "metadata": {},
   "source": [
    "________ And Logical operators ________ "
   ]
  },
  {
   "cell_type": "code",
   "execution_count": null,
   "id": "bb0266be-9ce7-445a-99a4-a028f28be6a9",
   "metadata": {},
   "outputs": [],
   "source": [
    "x = int(input('Enter a number:'))\n",
    "y = int(input('Enter a number: '))\n",
    "z = int(input('Enter a number:'))\n",
    "print(f'The entered numbers for x, y, and z are {x}, {y}, and {z}, respectively.')\n",
    "if x>y and x>z:\n",
    " print(f'The number x with {x} is the greatest number.')\n",
    "elif y>x and y>z:\n",
    " print(f'The number y with {y} is the greatest number.')\n",
    "else:\n",
    " print(f'The number z with {z} is the greatest number.')"
   ]
  },
  {
   "cell_type": "raw",
   "id": "f6121171-64f1-40a2-a266-ee50c291266f",
   "metadata": {},
   "source": [
    "________ or Logical operators ________ "
   ]
  },
  {
   "cell_type": "code",
   "execution_count": null,
   "id": "4a4c337a-1100-461d-a614-18e45dd2155a",
   "metadata": {},
   "outputs": [],
   "source": [
    "birth_year = 1990\n",
    "if birth_year < 1980 or birth_year > 1989:\n",
    " print('You were not born in 1980s.')\n",
    "else:\n",
    " print('You were born in 1990s.')\n",
    "print('Done!')"
   ]
  },
  {
   "cell_type": "raw",
   "id": "28403a0f-8c65-44cf-9e91-8b0bfea54e9c",
   "metadata": {},
   "source": [
    "________ not Logical operators ________ "
   ]
  },
  {
   "cell_type": "code",
   "execution_count": null,
   "id": "521004c5-ef05-4184-8797-88669b00cf10",
   "metadata": {},
   "outputs": [],
   "source": [
    "birth_year = int(input('Enter a year of birth: '))\n",
    "print(f'The entered year of birth is: {birth_year}')\n",
    "if birth_year < 1985 or birth_year == 1991 or birth_year == 1995:\n",
    " # For instance, if your year of birth is 1995\n",
    " print(f'You were born in {birth_year}')\n",
    "else:\n",
    " print(f'Your year of birth with {birth_year} is wrong.')"
   ]
  }
 ],
 "metadata": {
  "kernelspec": {
   "display_name": "Python 3 (ipykernel)",
   "language": "python",
   "name": "python3"
  },
  "language_info": {
   "codemirror_mode": {
    "name": "ipython",
    "version": 3
   },
   "file_extension": ".py",
   "mimetype": "text/x-python",
   "name": "python",
   "nbconvert_exporter": "python",
   "pygments_lexer": "ipython3",
   "version": "3.10.12"
  }
 },
 "nbformat": 4,
 "nbformat_minor": 5
}
