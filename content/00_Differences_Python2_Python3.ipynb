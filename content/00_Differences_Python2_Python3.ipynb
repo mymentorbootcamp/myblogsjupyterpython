{
 "cells": [
  {
   "cell_type": "markdown",
   "id": "3174dd72-5cd0-44a2-8deb-95c56b8b89a8",
   "metadata": {},
   "source": [
    "Differences Between Python 2 and Python 3"
   ]
  },
  {
   "cell_type": "markdown",
   "id": "6cd9e672-9220-494f-b476-694dc4129a40",
   "metadata": {},
   "source": [
    "==================== Print ==============================="
   ]
  },
  {
   "cell_type": "code",
   "execution_count": null,
   "id": "e1255261-3869-47df-814c-b68b38dc8a2d",
   "metadata": {},
   "outputs": [],
   "source": [
    "# Python 2: \n",
    "print \"Hello, World!\"\n",
    "\n",
    "#Python 3 \n",
    "print(\"Hello, World!\")\n"
   ]
  },
  {
   "cell_type": "markdown",
   "id": "5477fa96-d277-4f11-aa1f-80e094d6f5bb",
   "metadata": {},
   "source": [
    "==================== Exec ==============================="
   ]
  },
  {
   "cell_type": "code",
   "execution_count": null,
   "id": "57a5ffad-176d-45ad-8e4b-0effaea60c4d",
   "metadata": {},
   "outputs": [],
   "source": [
    "# Python 2:\n",
    "# Using exec in Python 2\n",
    "code_to_execute = 'print \"Hello, World!\"'\n",
    "exec code_to_execute\n",
    "\n",
    "#Python 3:\n",
    "# Using exec in Python 3\n",
    "code_to_execute = 'print(\"Hello, World!\")'\n",
    "exec(code_to_execute)"
   ]
  },
  {
   "cell_type": "markdown",
   "id": "07908e1f-0480-4519-a2e9-56f47232bcba",
   "metadata": {},
   "source": [
    "==================== Division with Integers ( / and // ) ==============================="
   ]
  },
  {
   "cell_type": "code",
   "execution_count": null,
   "id": "dd940ed7-0cd2-408c-b0ff-d16d95021b47",
   "metadata": {},
   "outputs": [],
   "source": [
    "# Python 2:\n",
    "# Integer division using /\n",
    "result = 5 / 2\n",
    "print(result)  # Outputs: 2\n",
    "\n",
    "# Integer division using //\n",
    "result = 5 // 2\n",
    "print(result)  # Outputs: 2\n",
    "\n",
    "#In Python 2, both / and // would perform integer division if both operands are integers.\n",
    "\n",
    "# Python 3:\n",
    "# True division using /\n",
    "result = 5 / 2\n",
    "print(result)  # Outputs: 2.5\n",
    "\n",
    "# Integer division using //\n",
    "result = 5 // 2\n",
    "print(result)  # Outputs: 2\n",
    "# In Python 3, the single forward slash (/) performs true division, resulting in a floating-point number when dividing integers. \n",
    "# The // operator is specifically used for integer division."
   ]
  },
  {
   "cell_type": "raw",
   "id": "2f067dc7-4528-4148-9db8-696990b3f135",
   "metadata": {},
   "source": [
    "==================== raise ==============================="
   ]
  },
  {
   "cell_type": "code",
   "execution_count": null,
   "id": "03657f53-e501-460d-9dbc-474226fa77c4",
   "metadata": {},
   "outputs": [],
   "source": [
    "#Python 2:\n",
    "try:\n",
    "    # Some code that may raise an exception\n",
    "    raise ValueError(\"This is a ValueError\")\n",
    "except ValueError, e:\n",
    "    print(\"Caught an exception: {}\".format(e))\n",
    "\n",
    "# Python 3:\n",
    "try:\n",
    "    # Some code that may raise an exception\n",
    "    raise ValueError(\"This is a ValueError\") # Outputs:  Caught an exception: This is a ValueError\n",
    "except ValueError as e:\n",
    "    print(\"Caught an exception: {}\".format(e))\n",
    "\n",
    "#In Python 3, the as keyword is used to bind the exception instance to a variable, while in Python 2, a comma is used for the same purpose. \n",
    "#In Python 3, using a comma for exception handling will result in a syntax error."
   ]
  },
  {
   "cell_type": "raw",
   "id": "f154977c-836a-4105-b68a-a802686872eb",
   "metadata": {},
   "source": [
    "==================== except ==============================="
   ]
  },
  {
   "cell_type": "code",
   "execution_count": null,
   "id": "13705041-09f6-46d0-8d16-851fb18afe0b",
   "metadata": {},
   "outputs": [],
   "source": [
    "#Python 2:\n",
    "try:\n",
    "    # Some code that may raise an exception\n",
    "    result = 10 / 0\n",
    "except (ZeroDivisionError, TypeError) as e:\n",
    "    print(\"Caught an exception:\", e)\n",
    "    \n",
    "#In this Python 2 example, the except statement catches either a ZeroDivisionError or a TypeError, and the caught exception is assigned \n",
    "# to the variable e.\n",
    "\n",
    "#Python 3:\n",
    "try:\n",
    "    # Some code that may raise an exception\n",
    "    result = 10 / 0\n",
    "except (ZeroDivisionError, TypeError) as e:\n",
    "    print(\"Caught an exception:\", e)\n",
    "    \n",
    "#In this Python 3 example, the syntax is the same as Python 2. However, in Python 3, you can also use a more granular approach without the tuple:\n",
    "try:\n",
    "    # Some code that may raise an exception\n",
    "    result = 10 / 0\n",
    "except ZeroDivisionError as e:\n",
    "    print(\"Caught a ZeroDivisionError:\", e)\n",
    "except TypeError as e:\n",
    "    print(\"Caught a TypeError:\", e)\n",
    "    \n",
    "# In this Python 3 example, the except statements are separate for each exception type."
   ]
  },
  {
   "cell_type": "raw",
   "id": "47432f43-b2b9-4b58-a771-2ff8e45ee21b",
   "metadata": {},
   "source": [
    "==================== def ==============================="
   ]
  },
  {
   "cell_type": "code",
   "execution_count": null,
   "id": "1c3638e3-6910-430a-8e16-41d5c1ed446c",
   "metadata": {},
   "outputs": [],
   "source": [
    "# Python 2\n",
    "def function(arg1, (x, y)):\n",
    "    print(arg1, x, y)\n",
    "\n",
    "my_tuple = (3, 4)\n",
    "function(1, my_tuple)  # Output: 1 3 4\n",
    "\n",
    "\n",
    "# Python 3\n",
    "def function(arg1, *args):\n",
    "    if len(args) == 2:\n",
    "        x, y = args\n",
    "        print(arg1, x, y)\n",
    "\n",
    "my_tuple = (5, 6)\n",
    "function(2, *my_tuple)  # Output: 2 5 6\n",
    "\n",
    "#In this example, the function function takes arg1 and a variable number of arguments using *args in Python 3. \n",
    "#If the length of args is 2, it unpacks the values into x and y. In Python 2, the function directly takes a tuple (x, y)."
   ]
  },
  {
   "cell_type": "raw",
   "id": "12d0fe11-2f6d-4696-9ead-4d83e3ba316a",
   "metadata": {},
   "source": [
    "==================== expr ==============================="
   ]
  },
  {
   "cell_type": "code",
   "execution_count": null,
   "id": "bafabcba-d227-464b-9bf8-bc1cf6f51e7f",
   "metadata": {},
   "outputs": [],
   "source": [
    "# In Python 2, the division of two integers results in integer division by default. To perform true division (float division), \n",
    "#you need to explicitly import the division module from the __future__ module. Here's an example:\n",
    "\n",
    "# Python 2\n",
    "from __future__ import division\n",
    "\n",
    "x = 355 / 113\n",
    "x_repr = repr(355 / 113)\n",
    "\n",
    "print(\"Result of division:\", x)\n",
    "print(\"Representation of result:\", x_repr)\n",
    "\n",
    "#In Python 3, true division is the default behavior, and you don't need to import anything special. \n",
    "# Python 3\n",
    "\n",
    "x = 355 / 113\n",
    "x_repr = repr(355 / 113)\n",
    "\n",
    "print(\"Result of division:\", x) # Output:  Result of division: 3.1415929203539825\n",
    "print(\"Representation of result:\", x_repr) # Output: Representation of result: 3.1415929203539825\n",
    "\n",
    "#In both cases, x will contain the result of the division (a float), and x_repr will contain its string representation. \n",
    "# Note that the examples are quite similar between Python 2 and Python 3, \n",
    "# but the __future__ import is only necessary in Python 2 to ensure true division behavior."
   ]
  },
  {
   "cell_type": "raw",
   "id": "7ac48415-e91a-4006-b605-827185501fce",
   "metadata": {},
   "source": [
    "==================== String Formatting ==============================="
   ]
  },
  {
   "cell_type": "code",
   "execution_count": null,
   "id": "1eee7754-54b9-4524-829a-d3ebc1ac378c",
   "metadata": {},
   "outputs": [],
   "source": [
    "#Python 2:\n",
    "# Using the % operator for string formatting\n",
    "print \"%d %s\" % (i, s)\n",
    "print \"%d/%d=%f\" % (355, 113, 355/113)\n",
    "\n",
    "#Python 3:\n",
    "# Using the format() method for string formatting\n",
    "print(\"{} {}\".format(i, s))\n",
    "print(\"{:d}/{:d}={:f}\".format(355, 113, 355/113))\n",
    "\n",
    "# Using f-strings (formatted string literals)\n",
    "print(f\"{i} {s}\")\n",
    "print(f\"{355:d}/{113:d}={355/113:f}\")\n",
    "\n",
    "#In the Python 3 examples, both format() and f-strings are shown. The output of each of these code snippets will be the same,\n",
    "#but the syntax is different between Python 2 and Python 3. It's worth noting that f-strings provide a more concise and readable syntax, \n",
    "#and they were introduced in Python 3.6."
   ]
  },
  {
   "cell_type": "raw",
   "id": "2aad4708-2d8a-486c-be7e-7fb4947f6ade",
   "metadata": {},
   "source": [
    "==================== class ==============================="
   ]
  },
  {
   "cell_type": "code",
   "execution_count": null,
   "id": "bae22b7f-8368-4508-8f66-77ac9d2742a2",
   "metadata": {},
   "outputs": [],
   "source": [
    "#Python 2:\n",
    "class MyClass(object):\n",
    "    def __init__(self, value):\n",
    "        self.value = value\n",
    "\n",
    "class AnotherClass(object):\n",
    "    def display(self):\n",
    "        print(\"AnotherClass display\")\n",
    "\n",
    "class MultiClass(MyClass, AnotherClass):\n",
    "    def show(self):\n",
    "        print(\"MultiClass show\")\n",
    "\n",
    "# Creating an instance of MultiClass\n",
    "obj = MultiClass(42)\n",
    "obj.show()\n",
    "obj.display()\n",
    "\n",
    "#Python 3:\n",
    "class MyClass:\n",
    "    def __init__(self, value):\n",
    "        self.value = value\n",
    "\n",
    "class AnotherClass:\n",
    "    def display(self):\n",
    "        print(\"AnotherClass display\",self.value)\n",
    "\n",
    "class MultiClass(MyClass, AnotherClass):\n",
    "    def show(self):\n",
    "        print(\"MultiClass show\",self.value)\n",
    "\n",
    "# Creating an instance of MultiClass\n",
    "obj = MultiClass(42)\n",
    "obj.show()\n",
    "obj.display()"
   ]
  }
 ],
 "metadata": {
  "kernelspec": {
   "display_name": "Python 3 (ipykernel)",
   "language": "python",
   "name": "python3"
  },
  "language_info": {
   "codemirror_mode": {
    "name": "ipython",
    "version": 3
   },
   "file_extension": ".py",
   "mimetype": "text/x-python",
   "name": "python",
   "nbconvert_exporter": "python",
   "pygments_lexer": "ipython3",
   "version": "3.10.12"
  }
 },
 "nbformat": 4,
 "nbformat_minor": 5
}
