{
 "cells": [
  {
   "cell_type": "markdown",
   "id": "519b9433-c334-4aba-a802-f4abff16788a",
   "metadata": {},
   "source": [
    "# Lists, Tuples, and Sets"
   ]
  },
  {
   "cell_type": "raw",
   "id": "0fc232ec-dea6-4e1e-b60b-208b65a2865c",
   "metadata": {},
   "source": [
    "1. List (Daftar):\n",
    "    my_list = [1, 2, 3, 'a', 'b', 'c']\n",
    "\n",
    "    Sifat Utama:\n",
    "        Mutable: Isi list dapat diubah setelah pembuatan.\n",
    "        Dapat berisi elemen dengan tipe data yang berbeda.\n",
    "\n",
    "2. Tuple:\n",
    "    my_tuple = (1, 2, 3, 'a', 'b', 'c')\n",
    "\n",
    "    Sifat Utama:\n",
    "        Immutable: Setelah dibuat, elemen tuple tidak dapat diubah.\n",
    "        Dapat berisi elemen dengan tipe data yang berbeda.\n",
    "\n",
    "3. Set:\n",
    "    my_set = {1, 2, 3, 'a', 'b', 'c'}\n",
    "\n",
    "    Sifat Utama:\n",
    "        Unordered: Tidak ada urutan tertentu dalam set.\n",
    "        Mutable: Isi set dapat diubah (elemen dapat ditambah atau dihapus).\n",
    "        Hanya dapat berisi elemen unik, tidak ada duplikasi.\n",
    "\n",
    "Perlu diingat bahwa List menggunakan tanda kurung siku [ ], Tuple menggunakan tanda kurung ( ), dan Set menggunakan tanda kurung kurawal { }. "
   ]
  },
  {
   "cell_type": "markdown",
   "id": "eb3c10e3-e6ec-4ee2-81b0-d2cc8cfb55ac",
   "metadata": {},
   "source": [
    "# LIST"
   ]
  },
  {
   "cell_type": "raw",
   "id": "42c0c4e9-3fed-4418-9b98-b1b9e4a4ffd5",
   "metadata": {},
   "source": [
    "    - Lists are ordered.\n",
    "    - Lists can contain any arbitrary objects.\n",
    "    - List elements can be accessed by index.\n",
    "    - Lists can be nested to arbitrary depth.\n",
    "    - Lists are mutable.\n",
    "    - Lists are dynamic."
   ]
  },
  {
   "cell_type": "raw",
   "id": "2b9eff90-3dbb-40a3-a888-b0366b85b759",
   "metadata": {},
   "source": [
    "________ Indexing ________"
   ]
  },
  {
   "cell_type": "code",
   "execution_count": null,
   "id": "017b0ec4-a39d-4b6d-9d63-b2434b895eae",
   "metadata": {},
   "outputs": [],
   "source": [
    "# creatinng a list\n",
    "nlis = ['python', 25, 2022]\n",
    "nlis\n",
    "# length of the list\n",
    "len(nlis)"
   ]
  },
  {
   "cell_type": "raw",
   "id": "2d51d36b-fe82-4988-ad30-7e34ad01a1c3",
   "metadata": {},
   "source": [
    "________ Slicing ________ "
   ]
  },
  {
   "cell_type": "code",
   "execution_count": null,
   "id": "46348156-1971-406b-88e3-2635f7c80ce5",
   "metadata": {},
   "outputs": [],
   "source": [
    "# slicing of a list\n",
    "print(nlis[0:2])\n",
    "print(nlis[2:4])\n",
    "print(nlis[4:6])"
   ]
  },
  {
   "cell_type": "code",
   "execution_count": null,
   "id": "621b7b28-6118-4cf1-8739-ce59a5299b8f",
   "metadata": {},
   "outputs": [],
   "source": [
    "# Extending the list\n",
    "  # we use the extend() functi on to add a new element to the list.\n",
    "  # With this function, we add more than one element to the list."
   ]
  },
  {
   "cell_type": "code",
   "execution_count": null,
   "id": "61839be0-5ff7-471f-97b5-f19dc3c2017b",
   "metadata": {},
   "outputs": [],
   "source": [
    "# take a list\n",
    "nlis = ['python', 3.14, 2022, [1, 1, 2, 3, 5, 8, 13, 21, 34], ('hello', 'python', 3,14, 2022)]\n",
    "nlis.extend(['hello world!', 1.618])\n",
    "nlis"
   ]
  },
  {
   "cell_type": "raw",
   "id": "d4857238-7bec-4995-b360-1997952a0c63",
   "metadata": {},
   "source": [
    "________ append() method ________   "
   ]
  },
  {
   "cell_type": "code",
   "execution_count": null,
   "id": "631dc61d-d37e-4fb1-81dd-bc210d582ac4",
   "metadata": {},
   "outputs": [],
   "source": [
    "nlis = ['python', 3.14, 2022, [1, 1, 2, 3, 5, 8, 13, 21, 34], ('hello', 'python', 3,14, 2022)]\n",
    "nlis.append(['hello world!', 1.618])\n",
    "nlis"
   ]
  },
  {
   "cell_type": "raw",
   "id": "afe06681-53a8-42ae-990d-da5bc837dd75",
   "metadata": {},
   "source": [
    "________ len(), append(), count(), index(), insert(), max(), min(), sum() functions ________ "
   ]
  },
  {
   "cell_type": "code",
   "execution_count": null,
   "id": "d8312576-9214-4dfa-99d2-47582b3bc0c1",
   "metadata": {},
   "outputs": [],
   "source": [
    "lis = [1,2,3,4,5,6,7]\n",
    "print(len(lis))\n",
    "lis.append(4)\n",
    "print(lis)\n",
    "print(lis.count(4)) # How many 4 are on the list 'lis'?\n",
    "print(lis.index(2)) # What is the index of the number 2 in the list 'lis'?\n",
    "lis.insert(8, 9) # Add number 9 to the index 8. \n",
    "print(lis)\n",
    "print(max(lis)) # What is the maximum number in the list?\n",
    "print(min(lis)) # What is the minimum number in the list?\n",
    "print(sum(lis)) # What is the sum of the numbers in the list?"
   ]
  },
  {
   "cell_type": "raw",
   "id": "c53bbafe-ab4b-472f-8de4-56d9138dda98",
   "metadata": {},
   "source": [
    "________ Deleting the element from the list using del() function ________    "
   ]
  },
  {
   "cell_type": "code",
   "execution_count": null,
   "id": "7466281f-cd4f-4bb9-9989-c241a07d714f",
   "metadata": {},
   "outputs": [],
   "source": [
    "nlis = ['python', 3.14, 2022, [1, 1, 2, 3, 5, 8, 13, 21, 34], ('hello', 'python', 3,14, 2022)]\n",
    "print('Before deleting:', nlis)\n",
    "del nlis\n",
    "print('After deleting:', nlis)"
   ]
  },
  {
   "cell_type": "raw",
   "id": "7bd770bc-0533-4167-ae6e-b997531d0c4b",
   "metadata": {},
   "source": [
    "________ Conversion of a string into a list using split() function ________  "
   ]
  },
  {
   "cell_type": "code",
   "execution_count": null,
   "id": "398cf07e-40f6-4766-ad47-97caa5fc7a51",
   "metadata": {},
   "outputs": [],
   "source": [
    "message = 'Python is a programming language.'\n",
    "message.split()"
   ]
  },
  {
   "cell_type": "code",
   "execution_count": null,
   "id": "5a829cdb-62ca-4e99-a018-95a6543fad00",
   "metadata": {},
   "outputs": [],
   "source": [
    "# Use of split() function with a delimiter"
   ]
  },
  {
   "cell_type": "code",
   "execution_count": null,
   "id": "806b65f9-b9cb-4c93-9aa9-1270c6dbd662",
   "metadata": {},
   "outputs": [],
   "source": [
    "text = 'p,y,t,h,o,n'\n",
    "text.split(\",\" )"
   ]
  },
  {
   "cell_type": "markdown",
   "id": "861df9f3-289b-455e-80f3-1085d3e44cf4",
   "metadata": {},
   "source": [
    "# Tuples "
   ]
  },
  {
   "cell_type": "raw",
   "id": "49ca735b-6594-4d2a-b191-3e55363a1008",
   "metadata": {},
   "source": [
    "    Tuples are immutable lists and cannot be changed in any way once it is created.\n",
    "        - Tuples are defined in the same way as lists.\n",
    "        - They are enclosed within parenthesis and not within square braces.\n",
    "        - Tuples are ordered, indexed collections of data.\n",
    "        - Similar to string indices, the first value in the tuple will have the index [0], the second value [1]\n",
    "        - Negative indices are counted from the end of the tuple, just like lists.\n",
    "        - Tuple also has the same structure where commas separate the values.\n",
    "        - Tuples can store duplicate values.\n",
    "        - Tuples allow to store several data items including string, integer, float in one variable"
   ]
  },
  {
   "cell_type": "code",
   "execution_count": null,
   "id": "89d1cd9e-21f3-4bcd-a034-95cbda6c4542",
   "metadata": {},
   "outputs": [],
   "source": [
    "# Take a tuple\n",
    "tuple_1 = ('Hello', 'Python', 3.14, 1.618, True, False, 32, [1,2,3], {1,2,3}, {'A': 3, 'B': 8}, (0, 1))\n",
    "tuple_1\n",
    "print(type(tuple_1))\n",
    "print(len(tuple_1))"
   ]
  },
  {
   "cell_type": "raw",
   "id": "15c8945c-6fd4-47f5-bc02-2f9d742e9266",
   "metadata": {},
   "source": [
    "________ Indexing ________"
   ]
  },
  {
   "cell_type": "code",
   "execution_count": null,
   "id": "4e825f8f-c558-4b65-8712-3c3ea7b3313a",
   "metadata": {},
   "outputs": [],
   "source": [
    "# Printi ng the each value in a tuple using both positi ve and negati ve indexing\n",
    "print(tuple_1[0])\n",
    "print(tuple_1[1])\n",
    "print(tuple_1[2])\n",
    "print(tuple_1[-1])\n",
    "print(tuple_1[-2])\n",
    "print(tuple_1[-3])"
   ]
  },
  {
   "cell_type": "raw",
   "id": "53edf42d-bc84-441a-973c-3f7d985739f9",
   "metadata": {},
   "source": [
    "________ Concatenation ________\n",
    "    To concatenate tuples, + sign is used"
   ]
  },
  {
   "cell_type": "code",
   "execution_count": null,
   "id": "74a6a5b9-09e0-490e-9620-6e24a6a82f90",
   "metadata": {},
   "outputs": [],
   "source": [
    "tuple_2 = tuple_1 + ('Hello World!', 2022)\n",
    "tuple_2"
   ]
  },
  {
   "cell_type": "raw",
   "id": "95a943ba-27d4-4607-9117-f20a402bb351",
   "metadata": {},
   "source": [
    "________ Repetition ________"
   ]
  },
  {
   "cell_type": "code",
   "execution_count": null,
   "id": "f3a7117f-829d-4ecb-b79d-4e24d07133fe",
   "metadata": {},
   "outputs": [],
   "source": [
    "rep_tup = (1,2,3,4)\n",
    "rep_tup*2"
   ]
  },
  {
   "cell_type": "raw",
   "id": "479e4d74-3c3f-4598-ae37-a54bbd0570c5",
   "metadata": {},
   "source": [
    "________ Membership ________"
   ]
  },
  {
   "cell_type": "code",
   "execution_count": null,
   "id": "3b883b1d-9b9d-4e43-878a-036eb39e0289",
   "metadata": {},
   "outputs": [],
   "source": [
    "rep_tup = (1,2,3,4)\n",
    "print(2 in rep_tup)\n",
    "print(2 not in rep_tup)\n",
    "print(5 in rep_tup)\n",
    "print(5 not in rep_tup)"
   ]
  },
  {
   "cell_type": "raw",
   "id": "f72a7d72-c9fc-4798-b32d-dfc59a5709f5",
   "metadata": {},
   "source": [
    "________ Iteration ________"
   ]
  },
  {
   "cell_type": "code",
   "execution_count": null,
   "id": "7f76e507-e2a4-47be-8777-14b2cddca2c7",
   "metadata": {},
   "outputs": [],
   "source": [
    "rep_tup = (1,2,3,4)\n",
    "for i in rep_tup:\n",
    " print(i)"
   ]
  },
  {
   "cell_type": "raw",
   "id": "adb973be-b368-473b-b880-c7e33200cb0f",
   "metadata": {},
   "source": [
    "________ Slicing ________\n",
    "    To obtain a new tuple from the current tuple, the slicing method is used."
   ]
  },
  {
   "cell_type": "code",
   "execution_count": null,
   "id": "2c020431-527f-4a57-82f2-166142a2e965",
   "metadata": {},
   "outputs": [],
   "source": [
    "# Obtaining a new tuple from the index 2 to index 6\n",
    "tuple_1 = ('Hello', 'Python', 3.14, 1.618, True, False, 32, [1,2,3], {1,2,3}, {'A': 3, 'B': 8}, (0, 1))\n",
    "tuple_1[2:7]\n",
    "\n",
    "# Obtaining tuple using negati ve indexing\n",
    "tuple_1 = ('Hello', 'Python', 3.14, 1.618, True, False, 32, [1,2,3], {1,2,3}, {'A': 3, 'B': 8}, (0, 1))\n",
    "tuple_1[-4:-1]"
   ]
  },
  {
   "cell_type": "raw",
   "id": "cd2d6405-135a-41c9-bc25-bd60f27c9747",
   "metadata": {},
   "source": [
    "________ Sorting ________"
   ]
  },
  {
   "cell_type": "code",
   "execution_count": null,
   "id": "136fd699-bd39-4d41-9dd7-c5b5b8688d06",
   "metadata": {},
   "outputs": [],
   "source": [
    "# Tuples can be sorted and save as a new tuple.\n",
    "tuple_3 = (0,9,7,4,6,2,9,8,3,1)\n",
    "sorted_tuple_3 = sorted(tuple_3)\n",
    "sorted_tuple_"
   ]
  },
  {
   "cell_type": "raw",
   "id": "29c7dd1a-628a-42df-93e0-11cd795e4bbb",
   "metadata": {},
   "source": [
    "________ Nested ________\n",
    "    In Python, a tuple written inside another tuple is known as a nested tuple."
   ]
  },
  {
   "cell_type": "code",
   "execution_count": null,
   "id": "2ba3a878-5487-483c-9a79-aa33c1ceacfb",
   "metadata": {},
   "outputs": [],
   "source": [
    "# Take a nested tuple\n",
    "nested_tuple =('biotechnology', (0, 5), ('fermentation', 'ethanol'), (3.14, 'pi', (1.618, 'golden ratio')) )\n",
    "nested_tuple\n",
    "\n",
    "# Now printi ng the each element of the nested tuple\n",
    "print('Item 0 of nested tuple is', nested_tuple[0])\n",
    "print('Item 1 of nested tuple is', nested_tuple[1])\n",
    "print('Item 2 of nested tuple is', nested_tuple[2])\n",
    "print('Item 3 of nested tuple is', nested_tuple[3])"
   ]
  },
  {
   "cell_type": "raw",
   "id": "b17d34df-f72e-4abe-9c19-3ffd4ad5ff32",
   "metadata": {},
   "source": [
    "________ Tuples are immutable ________"
   ]
  },
  {
   "cell_type": "code",
   "execution_count": null,
   "id": "789a323c-d07b-4a20-947f-aaeae7455b3c",
   "metadata": {},
   "outputs": [],
   "source": [
    "# Take a tuple\n",
    "tuple_4 = (1,3,5,7,8)\n",
    "tuple_4[0] = 9\n",
    "print(tuple_4)\n",
    "# The output shows the tuple is immutable"
   ]
  },
  {
   "cell_type": "raw",
   "id": "3688a8f2-16b3-40ee-a70c-19f0e6d10e1a",
   "metadata": {},
   "source": [
    "________ Delete a tuple ________\n",
    "    An element in a tuple can not be deleted since it is immutable.\n",
    "    But a whole tuple can be deleted"
   ]
  },
  {
   "cell_type": "code",
   "execution_count": null,
   "id": "5156f29a-564c-4822-9296-6f8aada472ca",
   "metadata": {},
   "outputs": [],
   "source": [
    "tuple_4 = (1,3,5,7,8)\n",
    "print('Before deleting:', tuple_4)\n",
    "del tuple_4\n",
    "print('After deleting:', tuple_4)"
   ]
  },
  {
   "cell_type": "markdown",
   "id": "3cf89025-7a71-4cb2-a78d-e4420fa3dac1",
   "metadata": {},
   "source": [
    "# SETS"
   ]
  },
  {
   "cell_type": "markdown",
   "id": "fba68aba-1a37-4094-9664-3ae86bfa78ad",
   "metadata": {},
   "source": [
    "![sets](http://127.0.0.1:8888/files/imglist/sets.png?_xsrf=2%7C0c07da78%7Cf8af67b74a203827ed58547b951b6e50%7C1704697821)"
   ]
  },
  {
   "cell_type": "raw",
   "id": "77c005fc-e58f-41ec-b414-5f54b501866b",
   "metadata": {},
   "source": [
    "    - Set is one of 4 built-in data types in Python used to store collecti ons of data including List, Tuple, and Dictionary\n",
    "    - Sets are unordered, but you can remove items and add new items.\n",
    "    - Set elements are unique. Duplicate elements are not allowed.\n",
    "    - A set itself may be modified, but the elements contained in the set must be of an immutable type.\n",
    "    - Sets are used to store multiple items in a single variable.\n",
    "    - You can denote a set with a pair of curly brackets {}."
   ]
  },
  {
   "cell_type": "code",
   "execution_count": null,
   "id": "2d88253a-6302-455a-a08f-cbcd59234fc1",
   "metadata": {},
   "outputs": [],
   "source": [
    "# Take a set\n",
    "set1 = {'Hello Python!', 3.14, 1.618, 'Hello World!', 3.14, 1.618, True, False, 2022}\n",
    "set1\n",
    "\n",
    "# A list can convert to a set\n",
    "# Take a list\n",
    "nlis = ['Hello Python!', 3.14, 1.618, 'Hello World!', 3.14, 1.618, True, False, 2022]\n",
    "# Convert the list to a set\n",
    "set2 = set(nlis)\n",
    "set2\n"
   ]
  },
  {
   "cell_type": "raw",
   "id": "571fd380-3c8c-4d4b-884b-92327935a30f",
   "metadata": {},
   "source": [
    "________ add() function ________ "
   ]
  },
  {
   "cell_type": "code",
   "execution_count": null,
   "id": "3800aa3c-15c7-40bc-9e5b-aa06b19115d2",
   "metadata": {},
   "outputs": [],
   "source": [
    "# Addition of an element to a set\n",
    "set3 = set(['Hello Python!', 3.14, 1.618, 'Hello World!', 3.14, 1.618, True, False, 2022])\n",
    "set3.add('Hi, Python!')\n",
    "set3"
   ]
  },
  {
   "cell_type": "raw",
   "id": "4c8b01b3-6043-4ccb-aa3a-183e942d82e5",
   "metadata": {},
   "source": [
    "________ update() function ________ \n",
    "    To add multiple elements into the set"
   ]
  },
  {
   "cell_type": "code",
   "execution_count": null,
   "id": "04124434-88fd-468b-8ccf-1366152c74e1",
   "metadata": {},
   "outputs": [],
   "source": [
    "x_set = {6,7,8,9}\n",
    "print(x_set)\n",
    "x_set.update({3,4,5})\n",
    "print(x_set)"
   ]
  },
  {
   "cell_type": "raw",
   "id": "1bf9a4a1-136b-4bf2-9954-e95d294748e6",
   "metadata": {},
   "source": [
    "________ remove() function ________ "
   ]
  },
  {
   "cell_type": "code",
   "execution_count": null,
   "id": "a6fef327-0693-4ef7-bb0f-0c3f7d06aa0e",
   "metadata": {},
   "outputs": [],
   "source": [
    "set3.remove('Hello Python!')\n",
    "set3"
   ]
  },
  {
   "cell_type": "raw",
   "id": "8c065479-651c-43e9-b7df-81454b0e5721",
   "metadata": {},
   "source": [
    "________ discard() function ________ \n",
    "    It leaves the set unchanged if the element to be deleted is not available in the set."
   ]
  },
  {
   "cell_type": "code",
   "execution_count": null,
   "id": "fb301b28-c417-4378-a780-fc48eedee0df",
   "metadata": {},
   "outputs": [],
   "source": [
    "set3.discard(3.14)\n",
    "set3\n",
    "\n",
    "# To verify if the element is in the set\n",
    "1.618 in set3"
   ]
  },
  {
   "cell_type": "raw",
   "id": "946c1ddb-fa19-4be2-92ad-8880b6989cfa",
   "metadata": {},
   "source": [
    "________ Union (| or union() method) ________ "
   ]
  },
  {
   "cell_type": "code",
   "execution_count": null,
   "id": "69e800ee-eda9-435c-8e14-55114ebfe087",
   "metadata": {},
   "outputs": [],
   "source": [
    "# Using the | operator:\n",
    "set1 = {1, 2, 3}\n",
    "set2 = {3, 4, 5}\n",
    "union_set = set1 | set2\n",
    "print(union_set)\n",
    "\n",
    "# Using the union() method:\n",
    "set1 = {1, 2, 3}\n",
    "set2 = {3, 4, 5}\n",
    "union_set = set1.union(set2)\n",
    "print(union_set)"
   ]
  },
  {
   "cell_type": "raw",
   "id": "9854f083-8127-445d-849b-e91304116ef9",
   "metadata": {},
   "source": [
    "________ Intersection (& or intersection() method) ________ "
   ]
  },
  {
   "cell_type": "code",
   "execution_count": null,
   "id": "bbd489e7-74fb-4fae-8c5e-5f071fdfc4b6",
   "metadata": {},
   "outputs": [],
   "source": [
    "# Using the & operator:\n",
    "set1 = {1, 2, 3}\n",
    "set2 = {3, 4, 5}\n",
    "intersection_set = set1 & set2\n",
    "print(intersection_set)\n",
    "\n",
    "#Using the intersection() method:\n",
    "set1 = {1, 2, 3}\n",
    "set2 = {3, 4, 5}\n",
    "intersection_set = set1.intersection(set2)\n",
    "print(intersection_set)"
   ]
  },
  {
   "cell_type": "raw",
   "id": "973bda2e-fa45-445d-9c35-6a04d79874d2",
   "metadata": {},
   "source": [
    "________ Difference (- or difference() method) ________ "
   ]
  },
  {
   "cell_type": "code",
   "execution_count": null,
   "id": "8b2deaeb-5e8d-46d5-8652-ae510c4df5b7",
   "metadata": {},
   "outputs": [],
   "source": [
    "# Using the - operator:\n",
    "set1 = {1, 2, 3}\n",
    "set2 = {3, 4, 5}\n",
    "difference_set = set1 - set2\n",
    "print(difference_set)\n",
    "\n",
    "# Using the difference() method:\n",
    "set1 = {1, 2, 3}\n",
    "set2 = {3, 4, 5}\n",
    "difference_set = set1.difference(set2)\n",
    "print(difference_set)"
   ]
  },
  {
   "cell_type": "raw",
   "id": "05e947f6-fcd6-4d27-9425-adf2e6a037c1",
   "metadata": {},
   "source": [
    "________ Symmetric Difference (^ or symmetric_difference() method)  ________ "
   ]
  },
  {
   "cell_type": "code",
   "execution_count": null,
   "id": "f71b9811-f5ff-4f12-88c1-3b375cc61d2c",
   "metadata": {},
   "outputs": [],
   "source": [
    "# Using the ^ operator:\n",
    "set1 = {1, 2, 3}\n",
    "set2 = {3, 4, 5}\n",
    "symmetric_difference_set = set1 ^ set2\n",
    "print(symmetric_difference_set)\n",
    "\n",
    "# Using the symmetric_difference() method:\n",
    "set1 = {1, 2, 3}\n",
    "set2 = {3, 4, 5}\n",
    "symmetric_difference_set = set1.symmetric_difference(set2)\n",
    "print(symmetric_difference_set)"
   ]
  }
 ],
 "metadata": {
  "kernelspec": {
   "display_name": "Python 3 (ipykernel)",
   "language": "python",
   "name": "python3"
  },
  "language_info": {
   "codemirror_mode": {
    "name": "ipython",
    "version": 3
   },
   "file_extension": ".py",
   "mimetype": "text/x-python",
   "name": "python",
   "nbconvert_exporter": "python",
   "pygments_lexer": "ipython3",
   "version": "3.10.12"
  }
 },
 "nbformat": 4,
 "nbformat_minor": 5
}
